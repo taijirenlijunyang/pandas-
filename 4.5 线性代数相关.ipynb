{
 "cells": [
  {
   "cell_type": "markdown",
   "metadata": {},
   "source": [
    "# 4.5 线性代数\n",
    "**线性代数，比如：矩阵乘法、分解、行列式等方阵数学，是所有数组类库的重要组成部分。**\n",
    "在numpy中，* 是表示的是矩阵中的元素，逐元素的乘积，并不是矩阵的点乘积。因此，numpy的数组方法和numpy命名空间都有一个函数dot，用于矩阵的操作\n"
   ]
  },
  {
   "cell_type": "code",
   "execution_count": 1,
   "metadata": {},
   "outputs": [],
   "source": [
    "import numpy as np"
   ]
  },
  {
   "cell_type": "code",
   "execution_count": 2,
   "metadata": {},
   "outputs": [],
   "source": [
    "x = np.array([[1,2,3],[4,5,6]])\n",
    "y= np.array([[7,8],[8,9],[1,9]])"
   ]
  },
  {
   "cell_type": "code",
   "execution_count": 3,
   "metadata": {},
   "outputs": [
    {
     "data": {
      "text/plain": [
       "array([[ 26,  53],\n",
       "       [ 74, 131]])"
      ]
     },
     "execution_count": 3,
     "metadata": {},
     "output_type": "execute_result"
    }
   ],
   "source": [
    "x.dot(y)"
   ]
  },
  {
   "cell_type": "code",
   "execution_count": 4,
   "metadata": {},
   "outputs": [
    {
     "data": {
      "text/plain": [
       "array([[ 26,  53],\n",
       "       [ 74, 131]])"
      ]
     },
     "execution_count": 4,
     "metadata": {},
     "output_type": "execute_result"
    }
   ],
   "source": [
    "np.dot(x,y)"
   ]
  },
  {
   "cell_type": "markdown",
   "metadata": {},
   "source": [
    "两种不同的操作方法，相同的结果。"
   ]
  },
  {
   "cell_type": "code",
   "execution_count": 5,
   "metadata": {},
   "outputs": [
    {
     "data": {
      "text/plain": [
       "array([ 6., 15.])"
      ]
     },
     "execution_count": 5,
     "metadata": {},
     "output_type": "execute_result"
    }
   ],
   "source": [
    "x @ np.ones(3)"
   ]
  },
  {
   "cell_type": "markdown",
   "metadata": {},
   "source": [
    "上述 @ 特殊符号作为中缀操作符，用于点乘矩阵操作。"
   ]
  },
  {
   "cell_type": "code",
   "execution_count": 6,
   "metadata": {},
   "outputs": [],
   "source": [
    "b = np.ones(3)"
   ]
  },
  {
   "cell_type": "code",
   "execution_count": 7,
   "metadata": {},
   "outputs": [
    {
     "data": {
      "text/plain": [
       "array([ 6., 15.])"
      ]
     },
     "execution_count": 7,
     "metadata": {},
     "output_type": "execute_result"
    }
   ],
   "source": [
    "x.dot(b)"
   ]
  },
  {
   "cell_type": "markdown",
   "metadata": {},
   "source": [
    "## numpy.linaly\n",
    "拥有一个矩阵分解的标注函数集，以及其他常用函数，例如求逆和行列式求解。\n",
    "* diag 将一个方阵的对角（或非对角）元素作为一个一维数组返回，或者将一维数组转换成一个方阵，并且在非对角线上有零点。\n",
    "* dot 矩阵点乘\n",
    "* trace 计算对角元素和\n",
    "* det 计算矩阵的行列式\n",
    "* eig 计算方阵的特征值和特征向量\n",
    "* inv 计算方阵的逆矩阵\n",
    "* pinv 计算矩阵的Moore-Penrose 伪逆\n",
    "* qr 计算QR分解\n",
    "* svd 计算奇异值分解(SVD)\n",
    "* solve 求解x的线性系统Ax=b ，其中A是方阵\n",
    "* lstsq 计算Ax=b的最小二乘解"
   ]
  },
  {
   "cell_type": "code",
   "execution_count": 12,
   "metadata": {},
   "outputs": [
    {
     "data": {
      "text/plain": [
       "array([[1, 2, 3],\n",
       "       [4, 5, 6],\n",
       "       [7, 8, 9],\n",
       "       [1, 9, 0]])"
      ]
     },
     "execution_count": 12,
     "metadata": {},
     "output_type": "execute_result"
    }
   ],
   "source": [
    "x = np.array([[3,4,5],[6,7,8],[1,9,0]])\n",
    "y = np.array([[1,2,3],[4,5,6],[7,8,9],[1,9,0]])\n",
    "y"
   ]
  },
  {
   "cell_type": "code",
   "execution_count": 13,
   "metadata": {},
   "outputs": [
    {
     "data": {
      "text/plain": [
       "array([[3, 4, 5],\n",
       "       [6, 7, 8],\n",
       "       [1, 9, 0]])"
      ]
     },
     "execution_count": 13,
     "metadata": {},
     "output_type": "execute_result"
    }
   ],
   "source": [
    "x"
   ]
  },
  {
   "cell_type": "code",
   "execution_count": 14,
   "metadata": {},
   "outputs": [
    {
     "data": {
      "text/plain": [
       "array([3, 7, 0])"
      ]
     },
     "execution_count": 14,
     "metadata": {},
     "output_type": "execute_result"
    }
   ],
   "source": [
    "np.diag(x)  # 取的对角线元素"
   ]
  },
  {
   "cell_type": "code",
   "execution_count": 24,
   "metadata": {},
   "outputs": [
    {
     "data": {
      "text/plain": [
       "array([1, 5, 9])"
      ]
     },
     "execution_count": 24,
     "metadata": {},
     "output_type": "execute_result"
    }
   ],
   "source": [
    "np.diag(y)  # 不是标准方阵时，也会取非对角的元素"
   ]
  },
  {
   "cell_type": "code",
   "execution_count": 25,
   "metadata": {},
   "outputs": [
    {
     "data": {
      "text/plain": [
       "array([[0, 0, 0],\n",
       "       [0, 4, 0],\n",
       "       [0, 0, 8]])"
      ]
     },
     "execution_count": 25,
     "metadata": {},
     "output_type": "execute_result"
    }
   ],
   "source": [
    "np.diag([0,4,8])  # 将一维数组，反构建成一个方阵，其他用0补充"
   ]
  },
  {
   "cell_type": "code",
   "execution_count": 26,
   "metadata": {},
   "outputs": [
    {
     "data": {
      "text/plain": [
       "10"
      ]
     },
     "execution_count": 26,
     "metadata": {},
     "output_type": "execute_result"
    }
   ],
   "source": [
    "np.trace(x)  # 计算对角元素和"
   ]
  },
  {
   "cell_type": "code",
   "execution_count": 27,
   "metadata": {},
   "outputs": [
    {
     "data": {
      "text/plain": [
       "(array([15.40721564, -0.70376835, -4.70344728]),\n",
       " array([[-0.43748924, -0.8201265 , -0.34007075],\n",
       "        [-0.76380145,  0.04653072, -0.40560841],\n",
       "        [-0.4745635 ,  0.57028714,  0.84843014]]))"
      ]
     },
     "execution_count": 27,
     "metadata": {},
     "output_type": "execute_result"
    }
   ],
   "source": [
    "np.linalg.eig(x)"
   ]
  },
  {
   "cell_type": "markdown",
   "metadata": {},
   "source": [
    "# 4.6 伪随机数生成\n",
    "numpy.random模块填补了python内建的random模块的不足，可以高效地生成多种概率分布下的完整样本值数组。"
   ]
  },
  {
   "cell_type": "code",
   "execution_count": 28,
   "metadata": {},
   "outputs": [],
   "source": [
    "sample = np.random.normal(size=(4,4))  # 服从正态分布的4*4方阵"
   ]
  },
  {
   "cell_type": "code",
   "execution_count": 29,
   "metadata": {},
   "outputs": [
    {
     "data": {
      "text/plain": [
       "array([[ 0.27973321,  0.83881879, -1.00890929,  0.94533934],\n",
       "       [ 0.30211961,  0.20648886,  1.34853665,  0.54537729],\n",
       "       [-0.76160765,  0.02601711, -0.09745821, -0.60758026],\n",
       "       [ 0.85536419,  1.64151661, -1.10386499,  0.86768967]])"
      ]
     },
     "execution_count": 29,
     "metadata": {},
     "output_type": "execute_result"
    }
   ],
   "source": [
    "sample"
   ]
  },
  {
   "cell_type": "code",
   "execution_count": 31,
   "metadata": {},
   "outputs": [],
   "source": [
    "import random"
   ]
  },
  {
   "cell_type": "code",
   "execution_count": 34,
   "metadata": {},
   "outputs": [],
   "source": [
    "a  = random.random()"
   ]
  },
  {
   "cell_type": "code",
   "execution_count": 35,
   "metadata": {},
   "outputs": [
    {
     "data": {
      "text/plain": [
       "0.19981448401831758"
      ]
     },
     "execution_count": 35,
     "metadata": {},
     "output_type": "execute_result"
    }
   ],
   "source": [
    "a"
   ]
  },
  {
   "cell_type": "markdown",
   "metadata": {},
   "source": [
    "python 内建的random模块一次只能生成一个值。"
   ]
  },
  {
   "cell_type": "code",
   "execution_count": null,
   "metadata": {},
   "outputs": [],
   "source": []
  },
  {
   "cell_type": "markdown",
   "metadata": {},
   "source": [
    "numpy.random 中部分函数列表\n",
    "* seed 向随机数生成器传递随机状态种子\n",
    "* permutation 返回一个序列的随机排序，或者返回一个乱序的整数范围序列\n",
    "* shuffle 随机排列一个序列\n",
    "* rand 从均匀分布中抽取样本\n",
    "* randint 根据给定的由低到高的范围抽取随机整数\n",
    "* randn 从均值0方差1的正态分布中抽取样本（MATLAB型接口）\n",
    "* binomial 从二项分布中抽取样本\n",
    "* normal 从正态（高斯）分布中抽取样本\n",
    "* beta  从beta分布中抽取样本\n",
    "* chisquare 从卡方分布中抽取样本\n",
    "* gamma 从伽马分布中抽取样本\n",
    "* uniform 从均匀[0,1]分布中抽取样本"
   ]
  },
  {
   "cell_type": "code",
   "execution_count": null,
   "metadata": {},
   "outputs": [],
   "source": []
  }
 ],
 "metadata": {
  "kernelspec": {
   "display_name": "Python 3",
   "language": "python",
   "name": "python3"
  },
  "language_info": {
   "codemirror_mode": {
    "name": "ipython",
    "version": 3
   },
   "file_extension": ".py",
   "mimetype": "text/x-python",
   "name": "python",
   "nbconvert_exporter": "python",
   "pygments_lexer": "ipython3",
   "version": "3.7.1"
  }
 },
 "nbformat": 4,
 "nbformat_minor": 2
}
